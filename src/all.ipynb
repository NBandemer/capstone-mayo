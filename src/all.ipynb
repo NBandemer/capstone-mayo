{
 "cells": [
  {
   "cell_type": "code",
   "execution_count": 2,
   "metadata": {},
   "outputs": [],
   "source": [
    "import os\n",
    "from transformers import AutoModelForSequenceClassification, AutoTokenizer, TextClassificationPipeline\n",
    "import pandas as pd\n",
    "\n",
    "sdoh_to_labels = {\n",
    "    \"sdoh_community_present\": 2,\n",
    "    \"sdoh_community_absent\": 2,\n",
    "    \"sdoh_education\": 2,\n",
    "    \"sdoh_economics\": 3,\n",
    "    \"sdoh_environment\": 3,\n",
    "    \"behavior_alcohol\": 5,\n",
    "    \"behavior_tobacco\": 5,\n",
    "    \"behavior_drug\": 5\n",
    "}\n",
    "\n",
    "sdoh_to_models = {\n",
    "    \"sdoh_community_present\": None,\n",
    "    \"sdoh_community_absent\": None,\n",
    "    \"sdoh_education\": None,\n",
    "    \"sdoh_economics\": None,\n",
    "    \"sdoh_environment\": None,\n",
    "    \"behavior_alcohol\": None,\n",
    "    \"behavior_tobacco\": None,\n",
    "    \"behavior_drug\": None\n",
    "}\n",
    "\n",
    "data_path = \"../data/SOCIALHISTORIES.csv\"\n",
    "model_name = \"emilyalsentzer/Bio_ClinicalBERT\"\n",
    "tokenizer = AutoTokenizer.from_pretrained(model_name, do_lower_case=True)\n",
    "saved_model_dir = \"../saved_models/standard\"\n",
    "df = pd.read_csv(data_path)\n",
    "sample = df.sample(1)\n",
    "text = sample[\"TEXT\"].values[0]\n",
    "\n",
    "for sdoh, num_labels in sdoh_to_labels.items():\n",
    "    model =  AutoModelForSequenceClassification.from_pretrained(os.path.join(saved_model_dir, sdoh))\n",
    "    sdoh_to_models[sdoh] = model"
   ]
  },
  {
   "cell_type": "code",
   "execution_count": 5,
   "metadata": {},
   "outputs": [
    {
     "name": "stdout",
     "output_type": "stream",
     "text": [
      "True labels:  {'sdoh_community_present': 1, 'sdoh_community_absent': 0, 'sdoh_education': 0, 'sdoh_economics': 1, 'sdoh_environment': 1, 'behavior_alcohol': 4, 'behavior_tobacco': 3, 'behavior_drug': 0}\n",
      "Results:  {'sdoh_community_present': '1', 'sdoh_community_absent': '0', 'sdoh_education': '0', 'sdoh_economics': '1', 'sdoh_environment': '1', 'behavior_alcohol': '4', 'behavior_tobacco': '3', 'behavior_drug': '0'}\n"
     ]
    },
    {
     "name": "stderr",
     "output_type": "stream",
     "text": [
      "C:\\Users\\xxnan\\AppData\\Local\\Temp\\ipykernel_15348\\3957121346.py:24: FutureWarning: Calling int on a single element Series is deprecated and will raise a TypeError in the future. Use int(ser.iloc[0]) instead\n",
      "  true_labels[sdoh] = int(sample[sdoh])\n"
     ]
    }
   ],
   "source": [
    "results = {\n",
    "    \"sdoh_community_present\": None,\n",
    "    \"sdoh_community_absent\": None,\n",
    "    \"sdoh_education\": None,\n",
    "    \"sdoh_economics\": None,\n",
    "    \"sdoh_environment\": None,\n",
    "    \"behavior_alcohol\": None,\n",
    "    \"behavior_tobacco\": None,\n",
    "    \"behavior_drug\": None\n",
    "}\n",
    "\n",
    "true_labels = {\n",
    "    \"sdoh_community_present\": 0,\n",
    "    \"sdoh_community_absent\": 0,\n",
    "    \"sdoh_education\": 0,\n",
    "    \"sdoh_economics\": 0,\n",
    "    \"sdoh_environment\": 0,\n",
    "    \"behavior_alcohol\": 0,\n",
    "    \"behavior_tobacco\": 0,\n",
    "    \"behavior_drug\": 0\n",
    "}\n",
    "\n",
    "for sdoh, model in sdoh_to_models.items():\n",
    "    true_labels[sdoh] = int(sample[sdoh])\n",
    "    pipeline = TextClassificationPipeline(model=model, tokenizer=tokenizer, task=\"text-classification\", device=0)\n",
    "    result = pipeline(text)\n",
    "    results[sdoh] = result[0]['label'].split(\"_\")[-1]\n",
    "\n",
    "print(\"True labels: \", true_labels)\n",
    "print(\"Results: \", results)"
   ]
  }
 ],
 "metadata": {
  "kernelspec": {
   "display_name": ".venv",
   "language": "python",
   "name": "python3"
  },
  "language_info": {
   "codemirror_mode": {
    "name": "ipython",
    "version": 3
   },
   "file_extension": ".py",
   "mimetype": "text/x-python",
   "name": "python",
   "nbconvert_exporter": "python",
   "pygments_lexer": "ipython3",
   "version": "3.10.11"
  }
 },
 "nbformat": 4,
 "nbformat_minor": 2
}
